{
 "cells": [
  {
   "cell_type": "code",
   "execution_count": 27,
   "metadata": {},
   "outputs": [
    {
     "name": "stdout",
     "output_type": "stream",
     "text": [
      "gehad ahmed 01002968951 gehad@gmail.com\n",
      "John Doe johndoe@example.com 01234567890\n",
      "Jane Smith 09876543210 janesmith@email.com\n",
      "01928374655 Alex Johnson alex.johnson@fakeemail.com\n",
      "Emily Davis 05432198765 emilydavis@sample.com\n",
      "michael.brown@testmail.com Michael Brown 06543219876\n",
      "01234567890 johndoe@example.com John Doe\n"
     ]
    }
   ],
   "source": [
    "with open(\"Data.txt\",\"r\") as f:\n",
    "     data=f.read()\n",
    "     print(data)"
   ]
  },
  {
   "cell_type": "code",
   "execution_count": 28,
   "metadata": {},
   "outputs": [],
   "source": [
    "name_list=[]\n",
    "phone_list=[]\n",
    "email_list=[]"
   ]
  },
  {
   "cell_type": "code",
   "execution_count": 29,
   "metadata": {},
   "outputs": [
    {
     "data": {
      "text/plain": [
       "['gehad ahmed 01002968951 gehad@gmail.com',\n",
       " 'John Doe johndoe@example.com 01234567890',\n",
       " 'Jane Smith 09876543210 janesmith@email.com',\n",
       " '01928374655 Alex Johnson alex.johnson@fakeemail.com',\n",
       " 'Emily Davis 05432198765 emilydavis@sample.com',\n",
       " 'michael.brown@testmail.com Michael Brown 06543219876',\n",
       " '01234567890 johndoe@example.com John Doe']"
      ]
     },
     "execution_count": 29,
     "metadata": {},
     "output_type": "execute_result"
    }
   ],
   "source": [
    "data=data.splitlines() \n",
    "data"
   ]
  },
  {
   "cell_type": "code",
   "execution_count": 30,
   "metadata": {},
   "outputs": [
    {
     "name": "stdout",
     "output_type": "stream",
     "text": [
      "gehad ahmed\n",
      "John Doe\n",
      "Jane Smith\n",
      "Alex Johnson\n",
      "Emily Davis\n",
      "Michael Brown\n",
      "John Doe\n"
     ]
    }
   ],
   "source": [
    "import re\n",
    "for line in data:\n",
    "    pattern=re.compile(r\"[^com | .com][a-zA-Z]+\\s[a-zA-Z]+\")\n",
    "    matches = pattern.finditer(line)\n",
    "    for match in matches:\n",
    "        print(match.group())"
   ]
  },
  {
   "cell_type": "code",
   "execution_count": 35,
   "metadata": {},
   "outputs": [
    {
     "name": "stdout",
     "output_type": "stream",
     "text": [
      "['gehad ahmed', 'John Doe', 'Jane Smith', 'Alex Johnson', 'Emily Davis', 'Michael Brown', 'John Doe']\n"
     ]
    }
   ],
   "source": [
    "import re\n",
    "pattern=re.compile(r\"[^com | .com][a-zA-Z]+\\s[a-zA-Z]+\")\n",
    "for line in data:\n",
    "    matches = pattern.finditer(line)\n",
    "    for match in matches:\n",
    "        name_list.append(match.group())\n",
    "\n",
    "print(name_list)"
   ]
  },
  {
   "cell_type": "code",
   "execution_count": 31,
   "metadata": {},
   "outputs": [
    {
     "name": "stdout",
     "output_type": "stream",
     "text": [
      "01002968951\n",
      "01234567890\n",
      "09876543210\n",
      "01928374655\n",
      "05432198765\n",
      "06543219876\n",
      "01234567890\n"
     ]
    }
   ],
   "source": [
    "import re\n",
    "for line in data:\n",
    "    pattern=re.compile(r\"0\\d{10}\")\n",
    "    matches = pattern.finditer(line)\n",
    "    for match in matches:\n",
    "        print(match.group())"
   ]
  },
  {
   "cell_type": "code",
   "execution_count": 32,
   "metadata": {},
   "outputs": [
    {
     "name": "stdout",
     "output_type": "stream",
     "text": [
      "['01002968951', '01234567890', '09876543210', '01928374655', '05432198765', '06543219876', '01234567890']\n"
     ]
    }
   ],
   "source": [
    "import re\n",
    "pattern=re.compile(r\"0\\d{10}\")\n",
    "for line in data:\n",
    "    matches = pattern.finditer(line)\n",
    "    for match in matches:\n",
    "        phone_list.append(match.group())         \n",
    "\n",
    "print(phone_list)"
   ]
  },
  {
   "cell_type": "code",
   "execution_count": 33,
   "metadata": {},
   "outputs": [
    {
     "name": "stdout",
     "output_type": "stream",
     "text": [
      "gehad@gmail.com\n",
      "johndoe@example.com\n",
      "janesmith@email.com\n",
      "alex.johnson@fakeemail.com\n",
      "emilydavis@sample.com\n",
      "michael.brown@testmail.com\n",
      "johndoe@example.com\n"
     ]
    }
   ],
   "source": [
    "import re\n",
    "for line in data:\n",
    "    pattern=re.compile(r'[\\w.+-]+@[a-zA-Z0-9-]+\\.[a-zA-Z0-9-.]{2,}')\n",
    "    matches = pattern.finditer(line)\n",
    "    for match in matches:\n",
    "        print(match.group())"
   ]
  },
  {
   "cell_type": "code",
   "execution_count": 34,
   "metadata": {},
   "outputs": [
    {
     "name": "stdout",
     "output_type": "stream",
     "text": [
      "['gehad@gmail.com', 'johndoe@example.com', 'janesmith@email.com', 'alex.johnson@fakeemail.com', 'emilydavis@sample.com', 'michael.brown@testmail.com', 'johndoe@example.com']\n"
     ]
    }
   ],
   "source": [
    "import re\n",
    "pattern=re.compile(r'[\\w.+-]+@[a-zA-Z0-9-]+\\.[a-zA-Z0-9-.]{2,}')\n",
    "for line in data:\n",
    "    matches = pattern.finditer(line)\n",
    "    for match in matches:\n",
    "        email_list.append(match.group())         \n",
    "\n",
    "print(email_list)"
   ]
  }
 ],
 "metadata": {
  "kernelspec": {
   "display_name": "base",
   "language": "python",
   "name": "python3"
  },
  "language_info": {
   "codemirror_mode": {
    "name": "ipython",
    "version": 3
   },
   "file_extension": ".py",
   "mimetype": "text/x-python",
   "name": "python",
   "nbconvert_exporter": "python",
   "pygments_lexer": "ipython3",
   "version": "3.11.7"
  }
 },
 "nbformat": 4,
 "nbformat_minor": 2
}
