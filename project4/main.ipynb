{
 "cells": [
  {
   "cell_type": "code",
   "execution_count": 1,
   "metadata": {},
   "outputs": [
    {
     "name": "stdout",
     "output_type": "stream",
     "text": [
      "gehad ahmed Mohamed 01002968951 gehad@gmail.com\n",
      "John Doe 01234567890 johndoe@example.com\n",
      "Jane Smith Ahmed 09876543210 janesmith@email.com\n",
      "01928374655 alex.johnson@fakeemail.com Alex Johnson Mohamed\n",
      "06543219876 Michael Brown Ahmed michael.brown@testmail.com\n",
      "\n"
     ]
    }
   ],
   "source": [
    "with open(\"Dataa.txt\",\"r\") as f:\n",
    "     data=f.read()\n",
    "     print(data)"
   ]
  },
  {
   "cell_type": "code",
   "execution_count": 2,
   "metadata": {},
   "outputs": [],
   "source": [
    "name_list=[]\n",
    "phone_list=[]\n",
    "email_list=[]"
   ]
  },
  {
   "cell_type": "code",
   "execution_count": 3,
   "metadata": {},
   "outputs": [
    {
     "data": {
      "text/plain": [
       "['gehad ahmed Mohamed 01002968951 gehad@gmail.com',\n",
       " 'John Doe 01234567890 johndoe@example.com',\n",
       " 'Jane Smith Ahmed 09876543210 janesmith@email.com',\n",
       " '01928374655 alex.johnson@fakeemail.com Alex Johnson Mohamed',\n",
       " '06543219876 Michael Brown Ahmed michael.brown@testmail.com']"
      ]
     },
     "execution_count": 3,
     "metadata": {},
     "output_type": "execute_result"
    }
   ],
   "source": [
    "data=data.splitlines() \n",
    "data"
   ]
  },
  {
   "cell_type": "code",
   "execution_count": 14,
   "metadata": {},
   "outputs": [
    {
     "name": "stdout",
     "output_type": "stream",
     "text": [
      "gehad ahmed Mohamed\n",
      "John Doe\n",
      "Jane Smith Ahmed\n",
      "Alex Johnson Mohamed\n",
      "Michael Brown Ahmed\n"
     ]
    }
   ],
   "source": [
    "import re\n",
    "pattern = re.compile(r\"([A-Za-z]+\\s[A-Za-z]+(\\s[A-Za-z]+)?)(?=\\s\\d|\\s[^@]+@|$)\")\n",
    "\n",
    "for line in data:\n",
    "    \n",
    "    matches = pattern.finditer(line)\n",
    "    for match in matches:\n",
    "        print(match.group())"
   ]
  },
  {
   "cell_type": "code",
   "execution_count": 15,
   "metadata": {},
   "outputs": [
    {
     "name": "stdout",
     "output_type": "stream",
     "text": [
      "['gehad ahmed Mohamed', 'John Doe', 'Jane Smith Ahmed', 'Alex Johnson Mohamed', 'Michael Brown Ahmed']\n"
     ]
    }
   ],
   "source": [
    "import re\n",
    "pattern=re.compile(r\"([A-Za-z]+\\s[A-Za-z]+(\\s[A-Za-z]+)?)(?=\\s\\d|\\s[^@]+@|$)\")\n",
    "for line in data:\n",
    "    matches = pattern.finditer(line)\n",
    "    for match in matches:\n",
    "        name_list.append(match.group())\n",
    "\n",
    "print(name_list)"
   ]
  },
  {
   "cell_type": "code",
   "execution_count": 16,
   "metadata": {},
   "outputs": [
    {
     "name": "stdout",
     "output_type": "stream",
     "text": [
      "01002968951\n",
      "01234567890\n",
      "09876543210\n",
      "01928374655\n",
      "06543219876\n"
     ]
    }
   ],
   "source": [
    "import re\n",
    "for line in data:\n",
    "    pattern=re.compile(r\"0\\d{10}\")\n",
    "    matches = pattern.finditer(line)\n",
    "    for match in matches:\n",
    "        print(match.group())"
   ]
  },
  {
   "cell_type": "code",
   "execution_count": 17,
   "metadata": {},
   "outputs": [
    {
     "name": "stdout",
     "output_type": "stream",
     "text": [
      "['01002968951', '01234567890', '09876543210', '01928374655', '06543219876']\n"
     ]
    }
   ],
   "source": [
    "import re\n",
    "pattern=re.compile(r\"0\\d{10}\")\n",
    "for line in data:\n",
    "    matches = pattern.finditer(line)\n",
    "    for match in matches:\n",
    "        phone_list.append(match.group())         \n",
    "\n",
    "print(phone_list)"
   ]
  },
  {
   "cell_type": "code",
   "execution_count": 18,
   "metadata": {},
   "outputs": [
    {
     "name": "stdout",
     "output_type": "stream",
     "text": [
      "gehad@gmail.com\n",
      "johndoe@example.com\n",
      "janesmith@email.com\n",
      "alex.johnson@fakeemail.com\n",
      "michael.brown@testmail.com\n"
     ]
    }
   ],
   "source": [
    "import re\n",
    "for line in data:\n",
    "    pattern=re.compile(r'[\\w.+-]+@[a-zA-Z0-9-]+\\.[a-zA-Z0-9-.]{2,}')\n",
    "    matches = pattern.finditer(line)\n",
    "    for match in matches:\n",
    "        print(match.group())"
   ]
  },
  {
   "cell_type": "code",
   "execution_count": 19,
   "metadata": {},
   "outputs": [
    {
     "name": "stdout",
     "output_type": "stream",
     "text": [
      "['gehad@gmail.com', 'johndoe@example.com', 'janesmith@email.com', 'alex.johnson@fakeemail.com', 'michael.brown@testmail.com']\n"
     ]
    }
   ],
   "source": [
    "import re\n",
    "pattern=re.compile(r'[\\w.+-]+@[a-zA-Z0-9-]+\\.[a-zA-Z0-9-.]{2,}')\n",
    "for line in data:\n",
    "    matches = pattern.finditer(line)\n",
    "    for match in matches:\n",
    "        email_list.append(match.group())         \n",
    "\n",
    "print(email_list)"
   ]
  }
 ],
 "metadata": {
  "kernelspec": {
   "display_name": "base",
   "language": "python",
   "name": "python3"
  },
  "language_info": {
   "codemirror_mode": {
    "name": "ipython",
    "version": 3
   },
   "file_extension": ".py",
   "mimetype": "text/x-python",
   "name": "python",
   "nbconvert_exporter": "python",
   "pygments_lexer": "ipython3",
   "version": "3.11.7"
  }
 },
 "nbformat": 4,
 "nbformat_minor": 2
}
