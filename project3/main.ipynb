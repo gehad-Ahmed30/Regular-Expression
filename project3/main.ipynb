{
 "cells": [
  {
   "cell_type": "code",
   "execution_count": 1,
   "metadata": {},
   "outputs": [
    {
     "name": "stdout",
     "output_type": "stream",
     "text": [
      "gehad ahmed-01002968951-gehad@gmail.com\n",
      "John Doe 01234567890 johndoe@example.com\n",
      "Alex Johnson,01928374655,alex.johnson@fakeemail.com\n",
      "Emily Davis 05432198765 emilydavis@sample.com\n"
     ]
    }
   ],
   "source": [
    "with open(\"dataa.txt\",\"r\") as f:\n",
    "     data=f.read()\n",
    "     print(data)"
   ]
  },
  {
   "cell_type": "code",
   "execution_count": 2,
   "metadata": {},
   "outputs": [],
   "source": [
    "name_list=[]\n",
    "phone_list=[]\n",
    "email_list=[]"
   ]
  },
  {
   "cell_type": "code",
   "execution_count": 3,
   "metadata": {},
   "outputs": [
    {
     "data": {
      "text/plain": [
       "['gehad ahmed-01002968951-gehad@gmail.com',\n",
       " 'John Doe 01234567890 johndoe@example.com',\n",
       " 'Alex Johnson,01928374655,alex.johnson@fakeemail.com',\n",
       " 'Emily Davis 05432198765 emilydavis@sample.com']"
      ]
     },
     "execution_count": 3,
     "metadata": {},
     "output_type": "execute_result"
    }
   ],
   "source": [
    "data=data.splitlines() \n",
    "data"
   ]
  },
  {
   "cell_type": "code",
   "execution_count": 4,
   "metadata": {},
   "outputs": [
    {
     "name": "stdout",
     "output_type": "stream",
     "text": [
      "gehad ahmed\n",
      "John Doe\n",
      "Alex Johnson\n",
      "Emily Davis\n"
     ]
    }
   ],
   "source": [
    "import re\n",
    "for line in data:\n",
    "    pattern=re.compile(r\"[a-zA-Z]+\\s[a-zA-Z]+\")\n",
    "    matches = pattern.finditer(line)\n",
    "    for match in matches:\n",
    "        print(match.group())"
   ]
  },
  {
   "cell_type": "code",
   "execution_count": 5,
   "metadata": {},
   "outputs": [
    {
     "name": "stdout",
     "output_type": "stream",
     "text": [
      "['gehad ahmed', 'John Doe', 'Alex Johnson', 'Emily Davis']\n"
     ]
    }
   ],
   "source": [
    "import re\n",
    "pattern=re.compile(r\"[a-zA-Z]+\\s[a-zA-Z]+\")\n",
    "for line in data:\n",
    "    matches = pattern.finditer(line)\n",
    "    for match in matches:\n",
    "        name_list.append(match.group())\n",
    "\n",
    "print(name_list)"
   ]
  },
  {
   "cell_type": "code",
   "execution_count": 6,
   "metadata": {},
   "outputs": [
    {
     "name": "stdout",
     "output_type": "stream",
     "text": [
      "01002968951\n",
      "01234567890\n",
      "01928374655\n",
      "05432198765\n"
     ]
    }
   ],
   "source": [
    "import re\n",
    "for line in data:\n",
    "    pattern=re.compile(r\"0\\d{10}\")\n",
    "    matches = pattern.finditer(line)\n",
    "    for match in matches:\n",
    "        print(match.group())"
   ]
  },
  {
   "cell_type": "code",
   "execution_count": 7,
   "metadata": {},
   "outputs": [
    {
     "name": "stdout",
     "output_type": "stream",
     "text": [
      "['01002968951', '01234567890', '01928374655', '05432198765']\n"
     ]
    }
   ],
   "source": [
    "import re\n",
    "pattern=re.compile(r\"0\\d{10}\")\n",
    "for line in data:\n",
    "    matches = pattern.finditer(line)\n",
    "    for match in matches:\n",
    "        phone_list.append(match.group())         \n",
    "\n",
    "print(phone_list)"
   ]
  },
  {
   "cell_type": "code",
   "execution_count": 9,
   "metadata": {},
   "outputs": [
    {
     "name": "stdout",
     "output_type": "stream",
     "text": [
      "gehad@gmail.com\n",
      "johndoe@example.com\n",
      "alex.johnson@fakeemail.com\n",
      "emilydavis@sample.com\n"
     ]
    }
   ],
   "source": [
    "import re\n",
    "for line in data:\n",
    "    pattern=re.compile(r'[\\w.+]+@[a-zA-Z0-9-]+\\.[a-zA-Z0-9-.]{2,}')\n",
    "    matches = pattern.finditer(line)\n",
    "    for match in matches:\n",
    "        print(match.group())"
   ]
  },
  {
   "cell_type": "code",
   "execution_count": 10,
   "metadata": {},
   "outputs": [
    {
     "name": "stdout",
     "output_type": "stream",
     "text": [
      "['ahmed-01002968951-gehad@gmail.com', 'johndoe@example.com', 'alex.johnson@fakeemail.com', 'emilydavis@sample.com']\n"
     ]
    }
   ],
   "source": [
    "import re\n",
    "pattern=re.compile(r'[\\w.+-]+@[a-zA-Z0-9-]+\\.[a-zA-Z0-9-.]{2,}')\n",
    "for line in data:\n",
    "    matches = pattern.finditer(line)\n",
    "    for match in matches:\n",
    "        email_list.append(match.group())         \n",
    "\n",
    "print(email_list)"
   ]
  }
 ],
 "metadata": {
  "kernelspec": {
   "display_name": "base",
   "language": "python",
   "name": "python3"
  },
  "language_info": {
   "codemirror_mode": {
    "name": "ipython",
    "version": 3
   },
   "file_extension": ".py",
   "mimetype": "text/x-python",
   "name": "python",
   "nbconvert_exporter": "python",
   "pygments_lexer": "ipython3",
   "version": "3.11.7"
  }
 },
 "nbformat": 4,
 "nbformat_minor": 2
}
