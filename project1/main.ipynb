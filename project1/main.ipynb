{
 "cells": [
  {
   "cell_type": "code",
   "execution_count": 32,
   "metadata": {},
   "outputs": [
    {
     "name": "stdout",
     "output_type": "stream",
     "text": [
      "gehad ahmed 01002968951 gehad@gmail.com\n",
      "John Doe 01234567890 johndoe@example.com\n",
      "Jane Smith 09876543210 janesmith@email.com\n",
      "Alex Johnson 01928374655 alex.johnson@fakeemail.com\n",
      "Emily Davis 05432198765 emilydavis@sample.com\n",
      "Michael Brown 06543219876 michael.brown@testmail.com\n",
      "\n"
     ]
    }
   ],
   "source": [
    "with open(\"data.txt\",\"r\") as f:\n",
    "     data=f.read()\n",
    "     print(data)"
   ]
  },
  {
   "cell_type": "code",
   "execution_count": 33,
   "metadata": {},
   "outputs": [],
   "source": [
    "name_list=[]\n",
    "phone_list=[]\n",
    "email_list=[]"
   ]
  },
  {
   "cell_type": "code",
   "execution_count": 34,
   "metadata": {},
   "outputs": [
    {
     "data": {
      "text/plain": [
       "['gehad ahmed 01002968951 gehad@gmail.com',\n",
       " 'John Doe 01234567890 johndoe@example.com',\n",
       " 'Jane Smith 09876543210 janesmith@email.com',\n",
       " 'Alex Johnson 01928374655 alex.johnson@fakeemail.com',\n",
       " 'Emily Davis 05432198765 emilydavis@sample.com',\n",
       " 'Michael Brown 06543219876 michael.brown@testmail.com']"
      ]
     },
     "execution_count": 34,
     "metadata": {},
     "output_type": "execute_result"
    }
   ],
   "source": [
    "data=data.splitlines() \n",
    "data"
   ]
  },
  {
   "cell_type": "code",
   "execution_count": 35,
   "metadata": {},
   "outputs": [
    {
     "name": "stdout",
     "output_type": "stream",
     "text": [
      "<re.Match object; span=(0, 11), match='gehad ahmed'>\n",
      "--------------\n",
      "<re.Match object; span=(0, 8), match='John Doe'>\n",
      "--------------\n",
      "<re.Match object; span=(0, 10), match='Jane Smith'>\n",
      "--------------\n",
      "<re.Match object; span=(0, 12), match='Alex Johnson'>\n",
      "--------------\n",
      "<re.Match object; span=(0, 11), match='Emily Davis'>\n",
      "--------------\n",
      "<re.Match object; span=(0, 13), match='Michael Brown'>\n",
      "--------------\n"
     ]
    }
   ],
   "source": [
    "import re\n",
    "for line in data:\n",
    "    pattern=re.compile(r\"[a-zA-Z]+\\s[a-zA-Z]+\")\n",
    "    matches = pattern.finditer(line)\n",
    "    for match in matches:\n",
    "        print(match)\n",
    "        print(\"--------------\")\n"
   ]
  },
  {
   "cell_type": "code",
   "execution_count": 36,
   "metadata": {},
   "outputs": [
    {
     "name": "stdout",
     "output_type": "stream",
     "text": [
      "gehad ahmed\n",
      "John Doe\n",
      "Jane Smith\n",
      "Alex Johnson\n",
      "Emily Davis\n",
      "Michael Brown\n"
     ]
    }
   ],
   "source": [
    "import re\n",
    "for line in data:\n",
    "    pattern=re.compile(r\"[a-zA-Z]+\\s[a-zA-Z]+\")\n",
    "    matches = pattern.finditer(line)\n",
    "    for match in matches:\n",
    "        print(match.group())\n",
    "        "
   ]
  },
  {
   "cell_type": "code",
   "execution_count": 37,
   "metadata": {},
   "outputs": [
    {
     "name": "stdout",
     "output_type": "stream",
     "text": [
      "['gehad ahmed', 'John Doe', 'Jane Smith', 'Alex Johnson', 'Emily Davis', 'Michael Brown']\n"
     ]
    }
   ],
   "source": [
    "import re\n",
    "pattern=re.compile(r\"[a-zA-Z]+\\s[a-zA-Z]+\")\n",
    "for line in data:\n",
    "    matches = pattern.finditer(line)\n",
    "    for match in matches:\n",
    "        name_list.append(match.group())\n",
    "\n",
    "print(name_list)"
   ]
  },
  {
   "cell_type": "code",
   "execution_count": 38,
   "metadata": {},
   "outputs": [
    {
     "name": "stdout",
     "output_type": "stream",
     "text": [
      "<re.Match object; span=(12, 23), match='01002968951'>\n",
      "--------------\n",
      "<re.Match object; span=(9, 20), match='01234567890'>\n",
      "--------------\n",
      "<re.Match object; span=(11, 22), match='09876543210'>\n",
      "--------------\n",
      "<re.Match object; span=(13, 24), match='01928374655'>\n",
      "--------------\n",
      "<re.Match object; span=(12, 23), match='05432198765'>\n",
      "--------------\n",
      "<re.Match object; span=(14, 25), match='06543219876'>\n",
      "--------------\n"
     ]
    }
   ],
   "source": [
    "import re\n",
    "for line in data:\n",
    "    pattern=re.compile(r\"0\\d{10}\")\n",
    "    matches = pattern.finditer(line)\n",
    "    for match in matches:\n",
    "        print(match)\n",
    "        print(\"--------------\")"
   ]
  },
  {
   "cell_type": "code",
   "execution_count": 39,
   "metadata": {},
   "outputs": [
    {
     "name": "stdout",
     "output_type": "stream",
     "text": [
      "01002968951\n",
      "01234567890\n",
      "09876543210\n",
      "01928374655\n",
      "05432198765\n",
      "06543219876\n"
     ]
    }
   ],
   "source": [
    "import re\n",
    "for line in data:\n",
    "    pattern=re.compile(r\"0\\d{10}\")\n",
    "    matches = pattern.finditer(line)\n",
    "    for match in matches:\n",
    "        print(match.group())"
   ]
  },
  {
   "cell_type": "code",
   "execution_count": 41,
   "metadata": {},
   "outputs": [
    {
     "name": "stdout",
     "output_type": "stream",
     "text": [
      "['01002968951', '01234567890', '09876543210', '01928374655', '05432198765', '06543219876']\n"
     ]
    }
   ],
   "source": [
    "import re\n",
    "pattern=re.compile(r\"0\\d{10}\")\n",
    "for line in data:\n",
    "    matches = pattern.finditer(line)\n",
    "    for match in matches:\n",
    "        phone_list.append(match.group())         \n",
    "\n",
    "print(phone_list)"
   ]
  },
  {
   "cell_type": "code",
   "execution_count": 42,
   "metadata": {},
   "outputs": [
    {
     "name": "stdout",
     "output_type": "stream",
     "text": [
      "<re.Match object; span=(24, 39), match='gehad@gmail.com'>\n",
      "--------------\n",
      "<re.Match object; span=(21, 40), match='johndoe@example.com'>\n",
      "--------------\n",
      "<re.Match object; span=(23, 42), match='janesmith@email.com'>\n",
      "--------------\n",
      "<re.Match object; span=(25, 51), match='alex.johnson@fakeemail.com'>\n",
      "--------------\n",
      "<re.Match object; span=(24, 45), match='emilydavis@sample.com'>\n",
      "--------------\n",
      "<re.Match object; span=(26, 52), match='michael.brown@testmail.com'>\n",
      "--------------\n"
     ]
    }
   ],
   "source": [
    "import re\n",
    "for line in data:\n",
    "    pattern = re.compile(r'[\\w.+-]+@[a-zA-Z0-9-]+\\.[a-zA-Z0-9-.]{2,}')\n",
    "    matches = pattern.finditer(line)\n",
    "    for match in matches:\n",
    "        print(match)\n",
    "        print(\"--------------\")"
   ]
  },
  {
   "cell_type": "code",
   "execution_count": 43,
   "metadata": {},
   "outputs": [
    {
     "name": "stdout",
     "output_type": "stream",
     "text": [
      "gehad@gmail.com\n",
      "johndoe@example.com\n",
      "janesmith@email.com\n",
      "alex.johnson@fakeemail.com\n",
      "emilydavis@sample.com\n",
      "michael.brown@testmail.com\n"
     ]
    }
   ],
   "source": [
    "import re\n",
    "for line in data:\n",
    "    pattern=re.compile(r'[\\w.+-]+@[a-zA-Z0-9-]+\\.[a-zA-Z0-9-.]{2,}')\n",
    "    matches = pattern.finditer(line)\n",
    "    for match in matches:\n",
    "        print(match.group())"
   ]
  },
  {
   "cell_type": "code",
   "execution_count": 44,
   "metadata": {},
   "outputs": [
    {
     "name": "stdout",
     "output_type": "stream",
     "text": [
      "['gehad@gmail.com', 'johndoe@example.com', 'janesmith@email.com', 'alex.johnson@fakeemail.com', 'emilydavis@sample.com', 'michael.brown@testmail.com']\n"
     ]
    }
   ],
   "source": [
    "import re\n",
    "pattern=re.compile(r'[\\w.+-]+@[a-zA-Z0-9-]+\\.[a-zA-Z0-9-.]{2,}')\n",
    "for line in data:\n",
    "    matches = pattern.finditer(line)\n",
    "    for match in matches:\n",
    "        email_list.append(match.group())         \n",
    "\n",
    "print(email_list)"
   ]
  }
 ],
 "metadata": {
  "kernelspec": {
   "display_name": "base",
   "language": "python",
   "name": "python3"
  },
  "language_info": {
   "codemirror_mode": {
    "name": "ipython",
    "version": 3
   },
   "file_extension": ".py",
   "mimetype": "text/x-python",
   "name": "python",
   "nbconvert_exporter": "python",
   "pygments_lexer": "ipython3",
   "version": "3.11.7"
  }
 },
 "nbformat": 4,
 "nbformat_minor": 2
}
